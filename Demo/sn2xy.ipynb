{
 "cells": [
  {
   "cell_type": "markdown",
   "id": "ee476fad",
   "metadata": {},
   "source": [
    "# SN2XY\n",
    "### Reverse curvalinear Coordinate Transformation\n",
    "Translates data points that are in a known stream-normal coordinate\\ \n",
    "system (eg. a known centerline processed with `xy2sn`) back into\\\n",
    "cartesian XY coordinates to match the original data you processed with xy2sn.\n",
    "\n",
    "This imporementation is different then the methods used in Legleiter and Kyriakidis (2006). This method uses the angles between centerline points calculated in `xy2sn` to calculate a coordinate rotation from Stream Normal to XY. This is more accurate that the 'Finite Difference' methods in the paper.\n",
    "\n",
    "`xy_out = sn2xy(ds, xs, cl, finite=False)`\n",
    "    \n",
    "Parameters\n",
    "----------\n",
    "**ds** : array (n X 1), Downstream coordinates of the input data.\\\n",
    "**xs** : array (n X 1), Crossstream coordinates of the input data.\\\n",
    "**cl** : dataframe, Centerline output form xy2sn (Columns = X, Y, DS, phi)\\\n",
    "\n",
    "optional:\\\n",
    "**finite** : boolean, True - returns Finite Difference coorindates (from original Leg. & Kyr. implementation), False (default)\\\n",
    "**verbose** : boolean, deflaut = True, prints feedback - False = quiet\n",
    "\n",
    "Returns\n",
    "-------\n",
    "xy_out : dataframe with transformed coordinates, same order as inputs\n",
    "\n",
    "\n",
    "### Workflow\n",
    "1. Run `xy2sn` - output *sn* and *clOut*\n",
    "2. Perform analysis on `sn` data\n",
    "3. Run `sn2xy` to get data back into XY coords"
   ]
  },
  {
   "cell_type": "code",
   "execution_count": 1,
   "id": "a1264667",
   "metadata": {},
   "outputs": [],
   "source": [
    "import os\n",
    "import sys\n",
    "import pandas as pd\n",
    "import numpy as np\n",
    "from matplotlib import pyplot as plt\n",
    "\n",
    "# add stream normal folder to sys path\n",
    "sys.path.append('D:/Dropbox/Python/streamNormal/')\n",
    "\n",
    "# Import stream normal functions\n",
    "import streamNormal as strNorm"
   ]
  },
  {
   "cell_type": "code",
   "execution_count": 4,
   "id": "70569266",
   "metadata": {},
   "outputs": [
    {
     "name": "stdout",
     "output_type": "stream",
     "text": [
      "Processing uniform rMax\n"
     ]
    }
   ],
   "source": [
    "# For this example - Run xy2sn to get the clOut variable\n",
    "cl_path = 'D:/Dropbox/Python/streamNormal/test_data/cl_uniform.csv'\n",
    "data_path = 'D:/Dropbox/Python/streamNormal/test_data/data_pts.csv'\n",
    "\n",
    "centerLine = pd.read_csv(cl_path)\n",
    "data_pts = pd.read_csv(data_path)\n",
    "sn, clOut = strNorm.xy2sn(data_pts.X,data_pts.Y,centerLine.X,centerLine.Y,1,400,verbose=False,plots=False)\n",
    "\n",
    "# *** You could also import a CSV you saved from the output of xy2sn"
   ]
  },
  {
   "cell_type": "markdown",
   "id": "5df82a97",
   "metadata": {},
   "source": [
    "#### Do some analysis on the sn data"
   ]
  },
  {
   "cell_type": "code",
   "execution_count": 5,
   "id": "3424adaf",
   "metadata": {},
   "outputs": [
    {
     "name": "stdout",
     "output_type": "stream",
     "text": [
      "SN: 198  | SN_nan: 2\n"
     ]
    }
   ],
   "source": [
    "xyOut = strNorm.sn2xy(sn['ds'],sn['xs'],clOut)"
   ]
  },
  {
   "cell_type": "code",
   "execution_count": 6,
   "id": "d84740e1",
   "metadata": {},
   "outputs": [
    {
     "data": {
      "text/html": [
       "<div>\n",
       "<style scoped>\n",
       "    .dataframe tbody tr th:only-of-type {\n",
       "        vertical-align: middle;\n",
       "    }\n",
       "\n",
       "    .dataframe tbody tr th {\n",
       "        vertical-align: top;\n",
       "    }\n",
       "\n",
       "    .dataframe thead th {\n",
       "        text-align: right;\n",
       "    }\n",
       "</style>\n",
       "<table border=\"1\" class=\"dataframe\">\n",
       "  <thead>\n",
       "    <tr style=\"text-align: right;\">\n",
       "      <th></th>\n",
       "      <th>ds</th>\n",
       "      <th>xs</th>\n",
       "      <th>xout</th>\n",
       "      <th>yout</th>\n",
       "    </tr>\n",
       "  </thead>\n",
       "  <tbody>\n",
       "    <tr>\n",
       "      <th>0</th>\n",
       "      <td>NaN</td>\n",
       "      <td>NaN</td>\n",
       "      <td>NaN</td>\n",
       "      <td>NaN</td>\n",
       "    </tr>\n",
       "    <tr>\n",
       "      <th>1</th>\n",
       "      <td>0.284085</td>\n",
       "      <td>-0.500559</td>\n",
       "      <td>0.552733</td>\n",
       "      <td>-0.156155</td>\n",
       "    </tr>\n",
       "    <tr>\n",
       "      <th>2</th>\n",
       "      <td>0.565093</td>\n",
       "      <td>-0.499725</td>\n",
       "      <td>0.743714</td>\n",
       "      <td>0.026671</td>\n",
       "    </tr>\n",
       "    <tr>\n",
       "      <th>3</th>\n",
       "      <td>0.831619</td>\n",
       "      <td>-0.500313</td>\n",
       "      <td>0.926789</td>\n",
       "      <td>0.185689</td>\n",
       "    </tr>\n",
       "    <tr>\n",
       "      <th>4</th>\n",
       "      <td>1.082936</td>\n",
       "      <td>-0.499046</td>\n",
       "      <td>1.096490</td>\n",
       "      <td>0.315813</td>\n",
       "    </tr>\n",
       "  </tbody>\n",
       "</table>\n",
       "</div>"
      ],
      "text/plain": [
       "         ds        xs      xout      yout\n",
       "0       NaN       NaN       NaN       NaN\n",
       "1  0.284085 -0.500559  0.552733 -0.156155\n",
       "2  0.565093 -0.499725  0.743714  0.026671\n",
       "3  0.831619 -0.500313  0.926789  0.185689\n",
       "4  1.082936 -0.499046  1.096490  0.315813"
      ]
     },
     "execution_count": 6,
     "metadata": {},
     "output_type": "execute_result"
    }
   ],
   "source": [
    "xyOut.head()"
   ]
  },
  {
   "cell_type": "markdown",
   "id": "fc220a91",
   "metadata": {},
   "source": [
    "### Checking the transformation\n",
    "Since we just transformed from directly, XY > SN > XY, we can double check the conversion agains the original xy coords.\n"
   ]
  },
  {
   "cell_type": "code",
   "execution_count": 37,
   "id": "4f3a5848",
   "metadata": {},
   "outputs": [],
   "source": [
    "xyOut['x_diff'] = xyOut['xout'] - data_pts['X']\n",
    "xyOut['y_diff'] = xyOut['yout'] - data_pts['Y']\n",
    "\n",
    "# add data points to xyOut for correlation stats\n",
    "xyOut['x_orig'] = data_pts['X']\n",
    "xyOut['y_orig'] = data_pts['Y']\n",
    "\n",
    "# stats\n",
    "xyOut_corr = xyOut.corr()\n",
    "\n",
    "xcorr = xyOut_corr['x_orig']['xout']\n",
    "ycorr = xyOut_corr['y_orig']['yout']"
   ]
  },
  {
   "cell_type": "code",
   "execution_count": 54,
   "id": "97240e10",
   "metadata": {},
   "outputs": [
    {
     "data": {
      "image/png": "[encoded data removed]",
      "text/plain": [
       "<Figure size 640x480 with 2 Axes>"
      ]
     },
     "metadata": {},
     "output_type": "display_data"
    }
   ],
   "source": [
    "fig, (ax1,ax2) = plt.subplots(1,2)\n",
    "\n",
    "ax1.scatter(xyOut['xout'],data_pts['X'],s=1,c='b')\n",
    "ax1.axis('square')\n",
    "ax1.text(0,19,r'$R = %0.6f$'%xcorr)\n",
    "ax1.set_xlabel(\"sn2xy X-coords\")\n",
    "ax1.set_ylabel(\"Orig. X-coords\")\n",
    "ax1.set_title(\"X-Coords\")\n",
    "\n",
    "ax2.scatter(xyOut['yout'],data_pts['Y'],s=1,c='g')\n",
    "ax2.axis('square')\n",
    "ax2.text(-1.50,1.4,r'$R = %0.6f$'%ycorr)\n",
    "ax2.set_xlabel(\"sn2xy Y-coords\")\n",
    "ax2.set_ylabel(\"Orig. Y-coords\")\n",
    "ax2.set_title(\"Y-Coords\")\n",
    "\n",
    "fig.tight_layout()\n",
    "\n"
   ]
  },
  {
   "cell_type": "code",
   "execution_count": 55,
   "id": "d239f6d9",
   "metadata": {},
   "outputs": [
    {
     "data": {
      "text/plain": [
       "Text(0.5, 1.0, 'Y-Coord Error')"
      ]
     },
     "execution_count": 55,
     "metadata": {},
     "output_type": "execute_result"
    },
    {
     "data": {
      "image/png": "[encoded data removed]",
      "text/plain": [
       "<Figure size 640x480 with 2 Axes>"
      ]
     },
     "metadata": {},
     "output_type": "display_data"
    }
   ],
   "source": [
    "fig2, (ax3,ax4) = plt.subplots(1,2)\n",
    "\n",
    "bins = np.arange(-0.02,0.021,0.0025)\n",
    "ax3.hist(xyOut['x_diff'],bins)\n",
    "ax3.set_title(\"X-Coord Error\")\n",
    "ax3.set_ylabel(\"Count\")\n",
    "ax4.hist(xyOut['y_diff'],bins)\n",
    "ax4.set_title(\"Y-Coord Error\")"
   ]
  },
  {
   "cell_type": "code",
   "execution_count": null,
   "id": "589081b0",
   "metadata": {},
   "outputs": [],
   "source": []
  }
 ],
 "metadata": {
  "kernelspec": {
   "display_name": "Python 3 (ipykernel)",
   "language": "python",
   "name": "python3"
  },
  "language_info": {
   "codemirror_mode": {
    "name": "ipython",
    "version": 3
   },
   "file_extension": ".py",
   "mimetype": "text/x-python",
   "name": "python",
   "nbconvert_exporter": "python",
   "pygments_lexer": "ipython3",
   "version": "3.9.12"
  }
 },
 "nbformat": 4,
 "nbformat_minor": 5
}
